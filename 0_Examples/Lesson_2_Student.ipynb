{
 "cells": [
  {
   "cell_type": "markdown",
   "id": "21fa2e13-567d-4509-9023-c99fb230f31f",
   "metadata": {},
   "source": [
    "# Lesson 2 : LangGraph Components"
   ]
  },
  {
   "cell_type": "code",
   "execution_count": 1,
   "id": "f5762271-8736-4e94-9444-8c92bd0e8074",
   "metadata": {
    "height": 47
   },
   "outputs": [],
   "source": [
    "from dotenv import load_dotenv\n",
    "_ = load_dotenv()"
   ]
  },
  {
   "cell_type": "code",
   "execution_count": 2,
   "id": "d0168aee-bce9-4d60-b827-f86a88187e31",
   "metadata": {
    "height": 115
   },
   "outputs": [],
   "source": [
    "from langgraph.graph import StateGraph, END\n",
    "from typing import TypedDict, Annotated\n",
    "import operator\n",
    "from langchain_core.messages import AnyMessage, SystemMessage, HumanMessage, ToolMessage\n",
    "from langchain_openai import ChatOpenAI\n",
    "from langchain_community.tools.tavily_search import TavilySearchResults"
   ]
  },
  {
   "cell_type": "code",
   "execution_count": 3,
   "id": "2589c5b6-6cc2-4594-9a17-dccdcf676054",
   "metadata": {
    "height": 64
   },
   "outputs": [
    {
     "name": "stdout",
     "output_type": "stream",
     "text": [
      "<class 'langchain_community.tools.tavily_search.tool.TavilySearchResults'>\n",
      "tavily_search_results_json\n"
     ]
    },
    {
     "name": "stderr",
     "output_type": "stream",
     "text": [
      "C:\\Users\\NahashonOsinde\\AppData\\Local\\Temp\\ipykernel_43832\\144666821.py:1: LangChainDeprecationWarning: The class `TavilySearchResults` was deprecated in LangChain 0.3.25 and will be removed in 1.0. An updated version of the class exists in the :class:`~langchain-tavily package and should be used instead. To use it run `pip install -U :class:`~langchain-tavily` and import as `from :class:`~langchain_tavily import TavilySearch``.\n",
      "  tool = TavilySearchResults(max_results=4) #increased number of results\n"
     ]
    }
   ],
   "source": [
    "tool = TavilySearchResults(max_results=4) #increased number of results\n",
    "print(type(tool))\n",
    "print(tool.name)"
   ]
  },
  {
   "cell_type": "markdown",
   "id": "e196c186-af55-4f2d-b569-b7d63a859304",
   "metadata": {},
   "source": [
    "> If you are not familiar with python typing annotation, you can refer to the [python documents](https://docs.python.org/3/library/typing.html)."
   ]
  },
  {
   "cell_type": "code",
   "execution_count": 4,
   "id": "a2ba84ec-c172-4de7-ac55-e3158a531b23",
   "metadata": {
    "height": 47
   },
   "outputs": [],
   "source": [
    "class AgentState(TypedDict):\n",
    "    messages: Annotated[list[AnyMessage], operator.add]"
   ]
  },
  {
   "cell_type": "markdown",
   "id": "74c7ba73-e603-453b-b06f-5db92c567b19",
   "metadata": {},
   "source": [
    "> Note: in `take_action` below, some logic was added to cover the case that the LLM returned a non-existent tool name. Even with function calling, LLMs can still occasionally hallucinate. Note that all that is done is instructing the LLM to try again! An advantage of an agentic organization."
   ]
  },
  {
   "cell_type": "code",
   "execution_count": 5,
   "id": "876d5092-b8ef-4e38-b4d7-0e80c609bf7a",
   "metadata": {
    "height": 742
   },
   "outputs": [],
   "source": [
    "class Agent:\n",
    "\n",
    "    def __init__(self, model, tools, system=\"\"):\n",
    "        self.system = system\n",
    "        graph = StateGraph(AgentState)\n",
    "        graph.add_node(\"llm\", self.call_openai)\n",
    "        graph.add_node(\"action\", self.take_action)\n",
    "        graph.add_conditional_edges(\n",
    "            \"llm\",\n",
    "            self.exists_action,\n",
    "            {True: \"action\", False: END}\n",
    "        )\n",
    "        graph.add_edge(\"action\", \"llm\")\n",
    "        graph.set_entry_point(\"llm\")\n",
    "        self.graph = graph.compile()\n",
    "        self.tools = {t.name: t for t in tools}\n",
    "        self.model = model.bind_tools(tools)\n",
    "\n",
    "    def exists_action(self, state: AgentState):\n",
    "        result = state['messages'][-1]\n",
    "        return len(result.tool_calls) > 0\n",
    "\n",
    "    def call_openai(self, state: AgentState):\n",
    "        messages = state['messages']\n",
    "        if self.system:\n",
    "            messages = [SystemMessage(content=self.system)] + messages\n",
    "        message = self.model.invoke(messages)\n",
    "        return {'messages': [message]}\n",
    "\n",
    "    def take_action(self, state: AgentState):\n",
    "        tool_calls = state['messages'][-1].tool_calls\n",
    "        results = []\n",
    "        for t in tool_calls:\n",
    "            print(f\"Calling: {t}\")\n",
    "            if not t['name'] in self.tools:      # check for bad tool name from LLM\n",
    "                print(\"\\n ....bad tool name....\")\n",
    "                result = \"bad tool name, retry\"  # instruct LLM to retry if bad\n",
    "            else:\n",
    "                result = self.tools[t['name']].invoke(t['args'])\n",
    "            results.append(ToolMessage(tool_call_id=t['id'], name=t['name'], content=str(result)))\n",
    "        print(\"Back to the model!\")\n",
    "        return {'messages': results}"
   ]
  },
  {
   "cell_type": "code",
   "execution_count": 6,
   "id": "10084a02-2928-4945-9f7c-ad3f5b33caf7",
   "metadata": {
    "height": 164
   },
   "outputs": [],
   "source": [
    "prompt = \"\"\"You are a smart research assistant. Use the search engine to look up information. \\\n",
    "You are allowed to make multiple calls (either together or in sequence). \\\n",
    "Only look up information when you are sure of what you want. \\\n",
    "If you need to look up some information before asking a follow up question, you are allowed to do that!\n",
    "\"\"\"\n",
    "\n",
    "model = ChatOpenAI(model=\"gpt-3.5-turbo\")  #reduce inference cost\n",
    "abot = Agent(model, [tool], system=prompt)"
   ]
  },
  {
   "cell_type": "code",
   "execution_count": 7,
   "id": "a3d6f5f4-2392-41b9-ab96-7919840baa3e",
   "metadata": {
    "height": 64
   },
   "outputs": [
    {
     "name": "stderr",
     "output_type": "stream",
     "text": [
      "c:\\Users\\NahashonOsinde\\miniconda3\\envs\\LangChain\\Lib\\site-packages\\pygraphviz\\agraph.py:1403: RuntimeWarning: Warning: Could not load \"C:\\Users\\NahashonOsinde\\miniconda3\\envs\\LangChain\\Library\\bin\\gvplugin_pango.dll\" - It was found, so perhaps one of its dependents was not.  Try ldd.\n",
      "Warning: Could not load \"C:\\Users\\NahashonOsinde\\miniconda3\\envs\\LangChain\\Library\\bin\\gvplugin_pango.dll\" - It was found, so perhaps one of its dependents was not.  Try ldd.\n",
      "Warning: Could not load \"C:\\Users\\NahashonOsinde\\miniconda3\\envs\\LangChain\\Library\\bin\\gvplugin_pango.dll\" - It was found, so perhaps one of its dependents was not.  Try ldd.\n",
      "Warning: Could not load \"C:\\Users\\NahashonOsinde\\miniconda3\\envs\\LangChain\\Library\\bin\\gvplugin_pango.dll\" - It was found, so perhaps one of its dependents was not.  Try ldd.\n",
      "Warning: Could not load \"C:\\Users\\NahashonOsinde\\miniconda3\\envs\\LangChain\\Library\\bin\\gvplugin_pango.dll\" - It was found, so perhaps one of its dependents was not.  Try ldd.\n",
      "\n",
      "  warnings.warn(b\"\".join(errors).decode(self.encoding), RuntimeWarning)\n"
     ]
    },
    {
     "data": {
      "image/png": "[encoded data removed]",
      "text/plain": [
       "<IPython.core.display.Image object>"
      ]
     },
     "execution_count": 7,
     "metadata": {},
     "output_type": "execute_result"
    }
   ],
   "source": [
    "from IPython.display import Image\n",
    "\n",
    "Image(abot.graph.get_graph().draw_png())"
   ]
  },
  {
   "cell_type": "code",
   "execution_count": 15,
   "id": "83588e70-254f-4f83-a510-c8ae81e729b0",
   "metadata": {
    "height": 47
   },
   "outputs": [
    {
     "name": "stdout",
     "output_type": "stream",
     "text": [
      "Calling: {'name': 'tavily_search_results_json', 'args': {'query': 'Tamara Lipid nanoparticles'}, 'id': 'call_97gSkt8iWUnwpRqo6sgot87a', 'type': 'tool_call'}\n",
      "Back to the model!\n"
     ]
    }
   ],
   "source": [
    "messages = [HumanMessage(content=\"What is Tamara with respect to Lipid nano particles?\")] #What is the weather in sf?\n",
    "result = abot.graph.invoke({\"messages\": messages})"
   ]
  },
  {
   "cell_type": "code",
   "execution_count": 16,
   "id": "89a06a8c-fcd4-4ca6-98f0-36c5809813e6",
   "metadata": {
    "height": 30,
    "scrolled": true
   },
   "outputs": [
    {
     "data": {
      "text/plain": [
       "{'messages': [HumanMessage(content='What is Tamara with respect to Lipid nano particles?', additional_kwargs={}, response_metadata={}),\n",
       "  AIMessage(content='', additional_kwargs={'tool_calls': [{'id': 'call_97gSkt8iWUnwpRqo6sgot87a', 'function': {'arguments': '{\"query\":\"Tamara Lipid nanoparticles\"}', 'name': 'tavily_search_results_json'}, 'type': 'function'}], 'refusal': None}, response_metadata={'token_usage': {'completion_tokens': 22, 'prompt_tokens': 156, 'total_tokens': 178, 'completion_tokens_details': {'accepted_prediction_tokens': 0, 'audio_tokens': 0, 'reasoning_tokens': 0, 'rejected_prediction_tokens': 0}, 'prompt_tokens_details': {'audio_tokens': 0, 'cached_tokens': 0}}, 'model_name': 'gpt-4o-2024-08-06', 'system_fingerprint': 'fp_80956533cb', 'id': 'chatcmpl-C9T3d10fEiQPdDK6Ydixyh3MO7i1Q', 'service_tier': 'default', 'finish_reason': 'tool_calls', 'logprobs': None}, id='run--a3fc4c2f-89e5-4bb8-bdcb-cbe474ce58db-0', tool_calls=[{'name': 'tavily_search_results_json', 'args': {'query': 'Tamara Lipid nanoparticles'}, 'id': 'call_97gSkt8iWUnwpRqo6sgot87a', 'type': 'tool_call'}], usage_metadata={'input_tokens': 156, 'output_tokens': 22, 'total_tokens': 178, 'input_token_details': {'audio': 0, 'cache_read': 0}, 'output_token_details': {'audio': 0, 'reasoning': 0}}),\n",
       "  ToolMessage(content='[{\\'title\\': \\'Introducing the TAMARA The LNP Nanoparticle Formulation System\\', \\'url\\': \\'https://www.microfluidics-mpt.com/blog/introducing-the-tamara-nanoparticle-formulation-system\\', \\'content\\': \\'The TAMARA platform is a beacon of R&D versatility, capable of synthesizing a diverse array of polymer and lipid-based nanoparticles, including RNA LNPs, Liposomes, Solid Lipid Nanoparticles (SLNs), polymeric nanoparticles, and cutting-edge next-generation nanoparticles. [...] TAMARA utilizes microfluidics technology to synthesize LNPs through a bottom-up, self-assembly approach. Unlike other microfluidics systems, these chips are recyclable, thanks to an advanced in-built cleaning protocol. Furthermore, these microfluidic chips integrate two mixing designs on a single reversible chip, the baffle or the herringbone mixer. This offers versatile mixing methods that are selected to align with specific research goals. [...] ### A Game-Changing, Cost-Effective R&D Solution\\\\n\\\\nTAMARA stands out as the only platform that seamlessly integrates all R&D nanoparticle formulation stages into a single machine, facilitating a smooth transition from low-volume screening (200µL) up to in-vivo scale studies (30mL per batch). This eliminates the need to switch up to different models during scale-up to reach the volumes needed, significantly boosting the success rate of drug development.\\', \\'score\\': 0.8825193}, {\\'title\\': \\'TAMARA Nanoparticles Fabrication System - Darwin Microfluidics\\', \\'url\\': \\'https://darwin-microfluidics.com/tamara-nanoparticles-fabrication-system/?srsltid=AfmBOoozXktMDtbOFWjrWrH6TyLELj9uKGJEMJ5dg6hS544fPqiA-ICV\\', \\'content\\': \"Achieving precise control over nanoparticle size during synthesis is essential to get uniformity and reproducibility in your research. With TAMARA\\'s intuitive platform, you can fine-tune the size of your lipid nanoparticles (from 50 to 200 nm). With a Polydiversity Index of less than 0.2, TAMARA ensures a narrow size distribution, and you\\'ll get more consistent and reliable results. TAMARA comes with Inside Therapeutics\\' proprietary microchip, a unique 2-in-1 mixers design (Baffle and [...] What you can produce with TAMARA:\\\\n\\\\nIcon of Lipid Nanoparticle (LNP)\\\\n\\\\nPrecisely formulate lipid nanoparticles, ideal to deliver any types of RNA (mRNA, siRNA, tRNA, DNA, saRNA, or ASOs) to target cells and organs.\\\\n\\\\nIcon of Liposome\\\\n\\\\nUsing nanoprecipitation technology to produce lipid-based nanoparticles, mostly used in pharmaceutical and cosmetic applications.\\\\n\\\\nIcon of Polymeric Nanoparticles [...] Synthesizes a wide range of highly biocompatible polymeric nanoparticles, such as hybrid nanoparticles, PLGA, and polystyrene.\\\\n\\\\nAnd so much more...\\\\n\\\\nTAMARA’s flexibility and versatility goes beyond polymer and lipid-based nanoparticles.  \\\\nYou can produce protein nanoparticles, nanoemulsions and other nanoparticles that fit your needs.\\\\n\\\\nHow to work with TAMARA:\\\\n\\\\nStop wasting precious resources and take control of your research outcomes!\", \\'score\\': 0.8684817}, {\\'title\\': \\'Nanoparticle Formulation System With Microfluidics | TAMARA\\', \\'url\\': \\'https://www.microfluidics-mpt.com/tamara\\', \\'content\\': \\'Streamline your drug development with a microfluidic-based platform that offers the precise synthesis of polymer and lipid-based nanoparticles such as LNPs, Liposomes & PLGAs.\\\\n\\\\nTAMARA is the only platform that offers a comprehensive R&D system covering low volumes for screening (200µL) all the way up to in-vivo scale production (30mL batches). Furthermore, the innovative fluidic design eliminates head & tail losses, resulting in zero formulation losses. [...] Nanoparticle size is critical, as too large can lead to liver clearance & kidney filtration, while too small can be toxic. TAMARA offers a unique ability to finely control the nanoparticle size because it delivers a faster mixing time. Using the most advanced microfluidics technology, a PDI <0.2 for RNA-LNP is achievable. [...] #### A versatile solution for lipid-based and polymeric nanoparticle synthesis.\\', \\'score\\': 0.82895297}, {\\'title\\': \"Inside Therapeutic\\'s Tamara and Elveflow OEM Flow Controller\", \\'url\\': \\'https://www.elveflow.com/microfluidic-oem-custom-fluidic-systems/use-cases/tamara-nanoparticle-uses-elveflow-oem/\\', \\'content\\': \\'This scenario revolves around developing the TAMARA nanoparticle formulation system, a microfluidic-based system tailored for researchers seeking simplicity, precision, and reproducibility in lipid and polymeric nanoparticle synthesis, such as LNP, liposomes and PLGA nanoparticles. The integration of Elveflow’s Advanced controller serves as the platform’s embedded flow control system.\\\\n\\\\nWritten by Robin Oliveres, CBO, Inside Therapeutics\\', \\'score\\': 0.8138313}]', name='tavily_search_results_json', tool_call_id='call_97gSkt8iWUnwpRqo6sgot87a'),\n",
       "  AIMessage(content='TAMARA is a nanoparticle formulation system that utilizes microfluidic technology to synthesize lipid-based nanoparticles, including lipid nanoparticles (LNPs). It offers a versatile platform for researchers to create various nanoparticles such as RNA LNPs, liposomes, solid lipid nanoparticles (SLNs), and polymeric nanoparticles. \\n\\nKey features of the TAMARA system include:\\n\\n1. **Microfluidics Technology**: TAMARA uses a bottom-up, self-assembly approach with recyclable microfluidic chips. These chips feature two mixing designs, the baffle or herringbone mixer, allowing researchers to choose a mixing method that suits their research objectives.\\n\\n2. **R&D Versatility**: The system integrates all research and development stages, handling volumes from low-volume screening (200µL) to in-vivo scale studies (30mL per batch). This eliminates the need to change models during scaling up.\\n\\n3. **Precise Control**: It offers control over the nanoparticle size, crucial for achieving uniformity and reproducibility. For lipid nanoparticles, sizes can range from 50 to 200 nm, ensuring a narrow size distribution with a Polydiversity Index (PDI) of less than 0.2.\\n\\n4. **Applications**: TAMARA can formulate nanoparticles ideal for delivering various types of RNA (like mRNA, siRNA) to target cells and organs. It also supports the production of lipid-based nanoparticles for pharmaceutical and cosmetic applications, and highly biocompatible polymeric nanoparticles.\\n\\nOverall, TAMARA provides a comprehensive and cost-effective solution for the formulation and synthesis of lipid and polymer-based nanoparticles, facilitating advanced drug development and research.', additional_kwargs={'refusal': None}, response_metadata={'token_usage': {'completion_tokens': 335, 'prompt_tokens': 1279, 'total_tokens': 1614, 'completion_tokens_details': {'accepted_prediction_tokens': 0, 'audio_tokens': 0, 'reasoning_tokens': 0, 'rejected_prediction_tokens': 0}, 'prompt_tokens_details': {'audio_tokens': 0, 'cached_tokens': 0}}, 'model_name': 'gpt-4o-2024-08-06', 'system_fingerprint': 'fp_80956533cb', 'id': 'chatcmpl-C9T3iusUJa4I5wWG73SM8Nhj8ltNv', 'service_tier': 'default', 'finish_reason': 'stop', 'logprobs': None}, id='run--411e2765-425c-43c6-86ad-3b72ac429e10-0', usage_metadata={'input_tokens': 1279, 'output_tokens': 335, 'total_tokens': 1614, 'input_token_details': {'audio': 0, 'cache_read': 0}, 'output_token_details': {'audio': 0, 'reasoning': 0}})]}"
      ]
     },
     "execution_count": 16,
     "metadata": {},
     "output_type": "execute_result"
    }
   ],
   "source": [
    "result"
   ]
  },
  {
   "cell_type": "code",
   "execution_count": 17,
   "id": "6cb3ef4c-58b3-401b-b104-0d51e553d982",
   "metadata": {
    "height": 30
   },
   "outputs": [
    {
     "data": {
      "text/plain": [
       "'TAMARA is a nanoparticle formulation system that utilizes microfluidic technology to synthesize lipid-based nanoparticles, including lipid nanoparticles (LNPs). It offers a versatile platform for researchers to create various nanoparticles such as RNA LNPs, liposomes, solid lipid nanoparticles (SLNs), and polymeric nanoparticles. \\n\\nKey features of the TAMARA system include:\\n\\n1. **Microfluidics Technology**: TAMARA uses a bottom-up, self-assembly approach with recyclable microfluidic chips. These chips feature two mixing designs, the baffle or herringbone mixer, allowing researchers to choose a mixing method that suits their research objectives.\\n\\n2. **R&D Versatility**: The system integrates all research and development stages, handling volumes from low-volume screening (200µL) to in-vivo scale studies (30mL per batch). This eliminates the need to change models during scaling up.\\n\\n3. **Precise Control**: It offers control over the nanoparticle size, crucial for achieving uniformity and reproducibility. For lipid nanoparticles, sizes can range from 50 to 200 nm, ensuring a narrow size distribution with a Polydiversity Index (PDI) of less than 0.2.\\n\\n4. **Applications**: TAMARA can formulate nanoparticles ideal for delivering various types of RNA (like mRNA, siRNA) to target cells and organs. It also supports the production of lipid-based nanoparticles for pharmaceutical and cosmetic applications, and highly biocompatible polymeric nanoparticles.\\n\\nOverall, TAMARA provides a comprehensive and cost-effective solution for the formulation and synthesis of lipid and polymer-based nanoparticles, facilitating advanced drug development and research.'"
      ]
     },
     "execution_count": 17,
     "metadata": {},
     "output_type": "execute_result"
    }
   ],
   "source": [
    "result['messages'][-1].content"
   ]
  },
  {
   "cell_type": "code",
   "execution_count": 20,
   "id": "dc3293b7-a50c-43c8-a022-8975e1e444b8",
   "metadata": {
    "height": 47
   },
   "outputs": [
    {
     "name": "stdout",
     "output_type": "stream",
     "text": [
      "Calling: {'name': 'tavily_search_results_json', 'args': {'query': 'Tamara lipid nanoparticles optimization'}, 'id': 'call_Uavdzwp1kmxRkpZ9FZsTeeGJ', 'type': 'tool_call'}\n",
      "Back to the model!\n"
     ]
    }
   ],
   "source": [
    "messages = [HumanMessage(content=\"What is Tamara with respect to Lipid nano particles and how can it be optimised?\")]\n",
    "result = abot.graph.invoke({\"messages\": messages})"
   ]
  },
  {
   "cell_type": "code",
   "execution_count": 21,
   "id": "0722c3d4-4cbf-43bf-81b0-50f634c4ce61",
   "metadata": {
    "height": 30
   },
   "outputs": [
    {
     "data": {
      "text/plain": [
       "'Tamara is a platform used for the formulation of lipid nanoparticles (LNPs) and other types of nanoparticles. It is designed to facilitate the development and optimization of LNP formulations, particularly for the effective delivery of various nucleic acids such as mRNA, siRNA, tRNA, DNA, saRNA, or antisense oligonucleotides (ASO) to target cells or organs.\\n\\n### Features of Tamara:\\n- **Versatility**: It can synthesize a wide range of polymeric and lipid-based nanoparticles, including liposomes and solid lipid nanoparticles (SLNs).\\n- **Microfluidics Technology**: Utilizes a bottom-up, self-assembly approach for synthesizing LNPs. The platform features recyclable microfluidic chips with advanced cleaning protocols. The chips include versatile mixing methods (baffle or herringbone mixer), allowing customization for specific research goals.\\n- **Control and Consistency**: Offers precise control over critical parameters like nanoparticle size, polydispersity index (PDI), and encapsulation efficiency. This is critical as nanoparticle size affects liver clearance, kidney filtration, and toxicity.\\n- **Streamlined R&D Process**: Tamara integrates all stages of R&D into a single machine, allowing a transition from low-volume screening to in vivo scale studies without switching models. This transition helps to maintain consistency in nanoparticle characteristics, boosting the success rate of developments.\\n\\n### Optimization through Tamara:\\n- The platform is designed to streamline nanoparticle formulation, enhancing the efficiency of the development process by maintaining consistency across different stages of R&D.\\n- With its advanced microfluidics technology, Tamara achieves fine control over nanoparticle characteristics, leading to optimized formulations. The technology allows for achieving a polydispersity index (PDI) of less than 0.2 for RNA-LNPs.\\n\\nTamara acts as a comprehensive solution for researchers looking to optimize lipid nanoparticle formulations through precise synthesis and consistent process control.'"
      ]
     },
     "execution_count": 21,
     "metadata": {},
     "output_type": "execute_result"
    }
   ],
   "source": [
    "result['messages'][-1].content"
   ]
  },
  {
   "cell_type": "code",
   "execution_count": 22,
   "id": "6b2f82fe-3ec4-4917-be51-9fb10d1317fa",
   "metadata": {
    "height": 198
   },
   "outputs": [
    {
     "name": "stdout",
     "output_type": "stream",
     "text": [
      "Calling: {'name': 'tavily_search_results_json', 'args': {'query': 'Tamara lipid nanoparticles'}, 'id': 'call_Xk4Mz8NeoYqvTgvChVAU4T4v', 'type': 'tool_call'}\n",
      "Back to the model!\n",
      "Calling: {'name': 'tavily_search_results_json', 'args': {'query': 'Tamara nanoparticle company founders'}, 'id': 'call_pmifrsSFqAHKP8Fmy2tASyPE', 'type': 'tool_call'}\n",
      "Back to the model!\n"
     ]
    }
   ],
   "source": [
    "# Note, the query was modified to produce more consistent results. \n",
    "# Results may vary per run and over time as search information and models change.\n",
    "\n",
    "query = \"What is Tamara with respect to Lipid nano particles? \\\n",
    "Who are the cofounders of the company that built Tamara and when was it founded.\" \n",
    "messages = [HumanMessage(content=query)]\n",
    "\n",
    "model = ChatOpenAI(model=\"gpt-4o\")  # requires more advanced model\n",
    "abot = Agent(model, [tool], system=prompt)\n",
    "result = abot.graph.invoke({\"messages\": messages})"
   ]
  },
  {
   "cell_type": "code",
   "execution_count": 27,
   "id": "ee0fe1c7-77e2-499c-a2f9-1f739bb6ddf0",
   "metadata": {
    "height": 30
   },
   "outputs": [
    {
     "name": "stdout",
     "output_type": "stream",
     "text": [
      "Tamara is a microfluidic-based nanoparticle formulation system developed by Inside Therapeutics. It specializes in synthesizing a range of polymeric and lipid-based nanoparticles, such as RNA-LNPs, liposomes, and solid lipid nanoparticles (SLNs). The platform is designed to provide precise control over nanoparticle size and offers flexibility and versatility across various research and development stages. It integrates all R&D nanoparticle formulation stages, allowing a smooth transition from low-volume screening to in-vivo scale studies without changing models.\n",
      "\n",
      "The cofounders of the company behind Tamara, Inside Therapeutics, include Robin, a micro and nanotechnology engineer, and Matthieu Kerhuel, who is also the Chief Technology Officer (CTO).\n"
     ]
    }
   ],
   "source": [
    "print(result['messages'][-1].content)"
   ]
  },
  {
   "cell_type": "code",
   "execution_count": 25,
   "id": "1d643182-2802-40fb-ba35-d4f893c5b976",
   "metadata": {
    "height": 30
   },
   "outputs": [
    {
     "data": {
      "text/plain": [
       "{'messages': [HumanMessage(content='What is Tamara with respect to Lipid nano particles? Who are the cofounders of the company that built Tamara and when was it founded.', additional_kwargs={}, response_metadata={}),\n",
       "  AIMessage(content='', additional_kwargs={'tool_calls': [{'id': 'call_Xk4Mz8NeoYqvTgvChVAU4T4v', 'function': {'arguments': '{\"query\":\"Tamara lipid nanoparticles\"}', 'name': 'tavily_search_results_json'}, 'type': 'function'}], 'refusal': None}, response_metadata={'token_usage': {'completion_tokens': 21, 'prompt_tokens': 175, 'total_tokens': 196, 'completion_tokens_details': {'accepted_prediction_tokens': 0, 'audio_tokens': 0, 'reasoning_tokens': 0, 'rejected_prediction_tokens': 0}, 'prompt_tokens_details': {'audio_tokens': 0, 'cached_tokens': 0}}, 'model_name': 'gpt-4o-2024-08-06', 'system_fingerprint': 'fp_80956533cb', 'id': 'chatcmpl-C9T7oqW8cOSmhyl1j3vR174WUfLuf', 'service_tier': 'default', 'finish_reason': 'tool_calls', 'logprobs': None}, id='run--a3090bdd-829b-45fc-82cc-383a24f80473-0', tool_calls=[{'name': 'tavily_search_results_json', 'args': {'query': 'Tamara lipid nanoparticles'}, 'id': 'call_Xk4Mz8NeoYqvTgvChVAU4T4v', 'type': 'tool_call'}], usage_metadata={'input_tokens': 175, 'output_tokens': 21, 'total_tokens': 196, 'input_token_details': {'audio': 0, 'cache_read': 0}, 'output_token_details': {'audio': 0, 'reasoning': 0}}),\n",
       "  ToolMessage(content='[{\\'title\\': \\'Introducing the TAMARA The LNP Nanoparticle Formulation System\\', \\'url\\': \\'https://www.microfluidics-mpt.com/blog/introducing-the-tamara-nanoparticle-formulation-system\\', \\'content\\': \\'The TAMARA platform is a beacon of R&D versatility, capable of synthesizing a diverse array of polymer and lipid-based nanoparticles, including RNA LNPs, Liposomes, Solid Lipid Nanoparticles (SLNs), polymeric nanoparticles, and cutting-edge next-generation nanoparticles. [...] TAMARA utilizes microfluidics technology to synthesize LNPs through a bottom-up, self-assembly approach. Unlike other microfluidics systems, these chips are recyclable, thanks to an advanced in-built cleaning protocol. Furthermore, these microfluidic chips integrate two mixing designs on a single reversible chip, the baffle or the herringbone mixer. This offers versatile mixing methods that are selected to align with specific research goals. [...] ### A Game-Changing, Cost-Effective R&D Solution\\\\n\\\\nTAMARA stands out as the only platform that seamlessly integrates all R&D nanoparticle formulation stages into a single machine, facilitating a smooth transition from low-volume screening (200µL) up to in-vivo scale studies (30mL per batch). This eliminates the need to switch up to different models during scale-up to reach the volumes needed, significantly boosting the success rate of drug development.\\', \\'score\\': 0.88799405}, {\\'title\\': \\'TAMARA Nanoparticles Fabrication System\\', \\'url\\': \\'https://darwin-microfluidics.com/tamara-nanoparticles-fabrication-system/?srsltid=AfmBOoomQtbn7Im9Urm3JYC4ltF3jRLSfxfbi6-4gB6YmUkt4rsLmge6\\', \\'content\\': \"Achieving precise control over nanoparticle size during synthesis is essential to get uniformity and reproducibility in your research. With TAMARA\\'s intuitive platform, you can fine-tune the size of your lipid nanoparticles (from 50 to 200 nm). With a Polydiversity Index of less than 0.2, TAMARA ensures a narrow size distribution, and you\\'ll get more consistent and reliable results. TAMARA comes with Inside Therapeutics\\' proprietary microchip, a unique 2-in-1 mixers design (Baffle and [...] What you can produce with TAMARA:\\\\n\\\\nIcon of Lipid Nanoparticle (LNP)\\\\n\\\\nPrecisely formulate lipid nanoparticles, ideal to deliver any types of RNA (mRNA, siRNA, tRNA, DNA, saRNA, or ASOs) to target cells and organs.\\\\n\\\\nIcon of Liposome\\\\n\\\\nUsing nanoprecipitation technology to produce lipid-based nanoparticles, mostly used in pharmaceutical and cosmetic applications.\\\\n\\\\nIcon of Polymeric Nanoparticles [...] Synthesizes a wide range of highly biocompatible polymeric nanoparticles, such as hybrid nanoparticles, PLGA, and polystyrene.\\\\n\\\\nAnd so much more...\\\\n\\\\nTAMARA’s flexibility and versatility goes beyond polymer and lipid-based nanoparticles.  \\\\nYou can produce protein nanoparticles, nanoemulsions and other nanoparticles that fit your needs.\\\\n\\\\nHow to work with TAMARA:\\\\n\\\\nStop wasting precious resources and take control of your research outcomes!\", \\'score\\': 0.88799405}, {\\'title\\': \\'TAMARA - Microfluidic Nanoparticle & LNP Formulation ...\\', \\'url\\': \\'https://insidetx.com/product/tamara/\\', \\'content\\': \\'Versatility  \\\\nNanoparticle Synthesis  \\\\nTAMARA enables the synthesis of a wide range of polymeric and lipid-based nanoparticles (e.g., RNA-LNP, liposomes, PLGA) on a single platform, seamlessly adapting to diverse payloads such as RNA (siRNA, mRNA, saRNA), DNA, CRISPR/Cas9, proteins, peptides, and small molecules.  \\\\n  \\\\nTAMARA can also be used for the next generation of nanoparticle requiring decoration with ligands, peptides... for more precise targeting. [...] Formulate any types of lipid nanoparticles (LNP) using TAMARA for the effective delivery of mRNA, siRNA, tRNA, DNA, saRNA, or ASO to target cells or organs.\\\\n\\\\n### Liposomes & SLN\\\\n\\\\nWith its optimized nanoprecipitation & self-assembly process control, the TAMARA system enables the efficient synthesis of a wide variety of lipid-based nanoparticles, including liposomes and SLNs.\\\\n\\\\n### Polymeric Nanoparticles [...] We are positively impressed   \\\\nwith the Inside Therapeutics solutions.   \\\\nWe found the equipment very user-friendly and the entire experience was highly reproducible. We were able to consistently produce lipid nanoparticles with encapsulated siRNA for drug delivery applications, with precise control of the physicochemical characteristics of the nanoparticles\\\\n\\\\n## Interested in discovering how TAMARA can enhance your nanoparticle/LNP formulation? Contact us now!\\\\n\\\\nName\\\\n\\\\nEmail\\', \\'score\\': 0.885404}, {\\'title\\': \\'TAMARA - Nanoparticle Formulation System\\', \\'url\\': \\'https://www.microfluidics-mpt.com/tamara\\', \\'content\\': \\'Streamline your drug development with a microfluidic-based platform that offers the precise synthesis of polymer and lipid-based nanoparticles such as LNPs, Liposomes & PLGAs.\\\\n\\\\nTAMARA is the only platform that offers a comprehensive R&D system covering low volumes for screening (200µL) all the way up to in-vivo scale production (30mL batches). Furthermore, the innovative fluidic design eliminates head & tail losses, resulting in zero formulation losses. [...] #### A versatile solution for lipid-based and polymeric nanoparticle synthesis. [...] Nanoparticle size is critical, as too large can lead to liver clearance & kidney filtration, while too small can be toxic. TAMARA offers a unique ability to finely control the nanoparticle size because it delivers a faster mixing time. Using the most advanced microfluidics technology, a PDI <0.2 for RNA-LNP is achievable.\\', \\'score\\': 0.8449346}]', name='tavily_search_results_json', tool_call_id='call_Xk4Mz8NeoYqvTgvChVAU4T4v'),\n",
       "  AIMessage(content='', additional_kwargs={'tool_calls': [{'id': 'call_pmifrsSFqAHKP8Fmy2tASyPE', 'function': {'arguments': '{\"query\":\"Tamara nanoparticle company founders\"}', 'name': 'tavily_search_results_json'}, 'type': 'function'}], 'refusal': None}, response_metadata={'token_usage': {'completion_tokens': 23, 'prompt_tokens': 1491, 'total_tokens': 1514, 'completion_tokens_details': {'accepted_prediction_tokens': 0, 'audio_tokens': 0, 'reasoning_tokens': 0, 'rejected_prediction_tokens': 0}, 'prompt_tokens_details': {'audio_tokens': 0, 'cached_tokens': 0}}, 'model_name': 'gpt-4o-2024-08-06', 'system_fingerprint': 'fp_80956533cb', 'id': 'chatcmpl-C9T7tIWsQj0TFVAC2dAzGCPtwjw1r', 'service_tier': 'default', 'finish_reason': 'tool_calls', 'logprobs': None}, id='run--a6ac95eb-554a-4cf5-8b55-d84e159f03ae-0', tool_calls=[{'name': 'tavily_search_results_json', 'args': {'query': 'Tamara nanoparticle company founders'}, 'id': 'call_pmifrsSFqAHKP8Fmy2tASyPE', 'type': 'tool_call'}], usage_metadata={'input_tokens': 1491, 'output_tokens': 23, 'total_tokens': 1514, 'input_token_details': {'audio': 0, 'cache_read': 0}, 'output_token_details': {'audio': 0, 'reasoning': 0}}),\n",
       "  ToolMessage(content='[{\\'title\\': \\'Big Milestone for our TAMARA nanoparticle synthesis system\\', \\'url\\': \\'https://www.linkedin.com/posts/insidetx_big-milestone-for-our-tamara-nanoparticle-activity-7165985884746539009-Ewnt\\', \\'content\\': \"Big Milestone for our TAMARA nanoparticle synthesis system We\\'re excited to announce that our CTO and co-founder Matthieu KERHUEL has\", \\'score\\': 0.7971311}, {\\'title\\': \\'A guide to RNA-LNP formulation screening - Inside Therapeutics\\', \\'url\\': \\'https://insidetx.com/review/a-guide-to-rna-lnp-formulation-screening/\\', \\'content\\': \\'Robin is a micro and nanotechnology engineer, with a Master’s degree from PHELMA - Grenoble INP and EPFL, in semiconductor, MEMS, and biotechnologies. With over 8 years of experience in diverse scientific fields, including three years in optics and laser technology in China, Robin has spent the last five years focused on microfluidics and nanoparticle formulation. As co-founder of Inside Therapeutics, he has pioneered cutting-edge platforms like TAMARA, streamlining nanoparticle formulation. [...] A guide to RNA-LNP formulation screening - Inside Therapeutics\\\\n\\\\nImage 1: Logo InsideTx 2024\\\\n\\\\n   Products\\\\n       TAMARA: LNP & Nanoparticle Formulation System\\\\n       Proof-of-Concept & Training\\\\n       Custom Platform\\\\n\\\\n   Resources\\\\n       Nano Reviews\\\\n       Nanomed News\\\\n       Publications\\\\n       Application Notes\\\\n       RNA-LNP Formulation Calculator\\\\n\\\\n   About us\\\\n\\\\nCONTACT US\\\\n\\\\n   Home\\\\n   Products\\\\n   Resources\\\\n   Training & Proof-of-Concept\\\\n   About us\\\\n   Distributors and partners [...] This study underscores the deep impact of formulation processes and parameters on LNP CQAs. Even minor variations in a single CPP can significantly influence the final therapeutic outcome. As demonstrated, microfluidics—and TAMARA in particular—offers a robust, reproducible platform for efficient LNP screening, enabling precise tuning of CPPs and facilitating the identification of optimal formulations while minimizing RNA & lipid consumption.\\', \\'score\\': 0.741169}, {\\'title\\': \\'TAMARA Nanoparticle Synthesis System - Darwin Microfluidics\\', \\'url\\': \\'https://darwin-microfluidics.com/products/tamara-nanoparticle-synthesis-system/?srsltid=AfmBOooCTX5ltrGt-8eQPx-RYdqRjQwR_8OmeoMHrJI1TjfBWgQ66ttp\\', \\'content\\': \\'Developed by microfluidic experts, TAMARA simplifies nanoparticle synthesis. Beginners can synthesize nanoparticles in under two minutes by setting formulation parameters, loading samples, and pressing run. The integrated interface easily manages synthesis conditions, saving and loading runs.\\\\n\\\\n### Versatile for All R&D Stages [...] Lipid Nanoparticle Synthesis Pack\\\\n\\\\nInside Therapeutics\\\\n\\\\nNanoCalibur Nanoparticle Formulation System\\\\n\\\\nMEPSGEN\\\\n\\\\nPower supply for Advances Microfluidics systems\\\\n\\\\nAdvanced Microfluidics\\\\n\\\\nMini USB calbe for Advanced Microfluidics Systems\\\\n\\\\nAdvanced Microfluidics\\\\n\\\\nKLOE UV-KUB-2 masking system front view\\\\n\\\\nKLOE\\\\n\\\\n## Ask An Expert\\\\n\\\\nemail subscription background\\\\n\\\\n### Subscribe to our newsletter\\\\n\\\\nGet the latest updates on new products and upcoming sales\\\\n\\\\n## Footer Start\\\\n\\\\n### Blog\\\\n\\\\n### Our Company [...] TAMARA is a microfluidic-based nanoparticle formulation system tailored for comprehensive research and development needs. It excels in nanoparticle formulation from initial screening through to in vitro and in vivo testing, managing volumes from 0.2 to 10 mL with exceptional repeatability. This allows consistent use throughout preclinical development without needing to reoptimize formulations.\\\\n\\\\n### User-Friendly Design\\', \\'score\\': 0.3217162}, {\\'title\\': \\'Nanoparticle Formulation System With Microfluidics | TAMARA\\', \\'url\\': \\'https://www.microfluidics-mpt.com/tamara\\', \\'content\\': \\'International: +1-(617)-969-5452 Toll Free: 800-370-5452\\\\n\\\\nImage 1: Microfluidics Logo With TM\\\\n\\\\n   Quote Request\\\\n   FAQs\\\\n   Blog\\\\n   About us\\\\n   Careers\\\\n\\\\nImage 2: search\\\\n\\\\nImage 3: Microfluidics China [...] Streamline your drug development with a microfluidic-based platform that offers the precise synthesis of polymer and lipid-based nanoparticles such as LNPs, Liposomes & PLGAs.\\\\n\\\\nTAMARA is the only platform that offers a comprehensive R&D system covering low volumes for screening (200µL) all the way up to in-vivo scale production (30mL batches). Furthermore, the innovative fluidic design eliminates head & tail losses, resulting in zero formulation losses. [...] Microfluidics™, the manufacturer of Microfluidizer® high shear fluid processors, is a leader in the design and production of laboratory and commercial processing equipment used in the production of micro- and nano-scale materials for pharmaceutical, biotech, chemical and diverse industries.\\\\n\\\\n© Copyright IDEX 2025\\\\n\\\\nPrivacy Policy\\\\n\\\\nCareers\\\\n\\\\nView our equipment\\\\n\\\\n   LinkedIn\\\\n   YouTube\\\\n\\\\n###### Products\\', \\'score\\': 0.2968025}]', name='tavily_search_results_json', tool_call_id='call_pmifrsSFqAHKP8Fmy2tASyPE'),\n",
       "  AIMessage(content='Tamara is a microfluidic-based nanoparticle formulation system developed by Inside Therapeutics. It specializes in synthesizing a range of polymeric and lipid-based nanoparticles, such as RNA-LNPs, liposomes, and solid lipid nanoparticles (SLNs). The platform is designed to provide precise control over nanoparticle size and offers flexibility and versatility across various research and development stages. It integrates all R&D nanoparticle formulation stages, allowing a smooth transition from low-volume screening to in-vivo scale studies without changing models.\\n\\nThe cofounders of the company behind Tamara, Inside Therapeutics, include Robin, a micro and nanotechnology engineer, and Matthieu Kerhuel, who is also the Chief Technology Officer (CTO).', additional_kwargs={'refusal': None}, response_metadata={'token_usage': {'completion_tokens': 147, 'prompt_tokens': 2648, 'total_tokens': 2795, 'completion_tokens_details': {'accepted_prediction_tokens': 0, 'audio_tokens': 0, 'reasoning_tokens': 0, 'rejected_prediction_tokens': 0}, 'prompt_tokens_details': {'audio_tokens': 0, 'cached_tokens': 0}}, 'model_name': 'gpt-4o-2024-08-06', 'system_fingerprint': 'fp_80956533cb', 'id': 'chatcmpl-C9T7yECNspFiuofnsp9xgr3d9cvdl', 'service_tier': 'default', 'finish_reason': 'stop', 'logprobs': None}, id='run--ac530c5b-d893-4cca-ac80-47eeb0dc5fdd-0', usage_metadata={'input_tokens': 2648, 'output_tokens': 147, 'total_tokens': 2795, 'input_token_details': {'audio': 0, 'cache_read': 0}, 'output_token_details': {'audio': 0, 'reasoning': 0}})]}"
      ]
     },
     "execution_count": 25,
     "metadata": {},
     "output_type": "execute_result"
    }
   ],
   "source": [
    "result"
   ]
  }
 ],
 "metadata": {
  "kernelspec": {
   "display_name": "LangChain",
   "language": "python",
   "name": "python3"
  },
  "language_info": {
   "codemirror_mode": {
    "name": "ipython",
    "version": 3
   },
   "file_extension": ".py",
   "mimetype": "text/x-python",
   "name": "python",
   "nbconvert_exporter": "python",
   "pygments_lexer": "ipython3",
   "version": "3.11.13"
  }
 },
 "nbformat": 4,
 "nbformat_minor": 5
}
